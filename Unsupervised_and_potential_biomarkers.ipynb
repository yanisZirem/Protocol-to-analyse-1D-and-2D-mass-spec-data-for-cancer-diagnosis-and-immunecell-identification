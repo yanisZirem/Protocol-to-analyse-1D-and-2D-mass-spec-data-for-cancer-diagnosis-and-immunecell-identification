{
 "cells": [
  {
   "cell_type": "markdown",
   "id": "8b14c5ba",
   "metadata": {},
   "source": [
    "# Unsupervised"
   ]
  },
  {
   "cell_type": "code",
   "execution_count": null,
   "id": "7dbc1eae",
   "metadata": {},
   "outputs": [],
   "source": [
    "# Import necessary libraries\n",
    "import pandas as pd\n",
    "import matplotlib.pyplot as plt\n",
    "import numpy as np\n",
    "from scipy.stats import kruskal\n",
    "from scipy.signal import find_peaks\n",
    "import seaborn as sns\n",
    "from itertools import combinations\n",
    "from statannot import add_stat_annotation"
   ]
  },
  {
   "cell_type": "code",
   "execution_count": null,
   "id": "31a2afec",
   "metadata": {},
   "outputs": [],
   "source": [
    "# Load the data\n",
    "data = pd.read_csv('data_train_toy.csv')\n",
    "data"
   ]
  },
  {
   "cell_type": "code",
   "execution_count": null,
   "id": "9a22ecb7",
   "metadata": {},
   "outputs": [],
   "source": [
    "# Define the function of peak_picking\n",
    "def peak_picking(ms_data, min_sn=10):\n",
    "    peaks_df_list = []\n",
    "    ms_data = data.drop([\"Class\"], axis=1) # drop the uncessary columns\n",
    "    for i in range(len(ms_data)):\n",
    "        spectrum = ms_data.iloc[i].values\n",
    "        noise_std = np.std(spectrum)\n",
    "        threshold = noise_std * min_sn\n",
    "        peaks, _ = find_peaks(spectrum, height=threshold)\n",
    "        peaks_df_i = pd.DataFrame({\n",
    "            'spectrum_index': i,\n",
    "            'm/z': ms_data.columns[peaks],\n",
    "            'intensity': spectrum[peaks],\n",
    "        })\n",
    "\n",
    "        peaks_df_list.append(peaks_df_i)\n",
    "\n",
    "    peaks_df = pd.concat(peaks_df_list, ignore_index=True)\n",
    "    peaks_df = peaks_df.dropna(subset=['m/z'])\n",
    "    peaks_df = peaks_df.pivot_table(index='spectrum_index', columns='m/z', values='intensity')\n",
    "    data_pick_picked = pd.concat([peaks_df,data['Class']], axis=1)\n",
    "    data_pick_picked = data_pick_picked.fillna(0)\n",
    "    data_pick_picked\n",
    "    \n",
    "    return data_pick_picked"
   ]
  },
  {
   "cell_type": "code",
   "execution_count": null,
   "id": "cdda388c",
   "metadata": {},
   "outputs": [],
   "source": [
    "# Peak picking with S/N > 10 and retrun the peak in Dataframe\n",
    "data_peak_picked = peak_picking(data, min_sn=10)\n",
    "data_peak_picked"
   ]
  },
  {
   "cell_type": "code",
   "execution_count": null,
   "id": "80c96480",
   "metadata": {},
   "outputs": [],
   "source": [
    "# Define the function de Unsupervised Heatmap \n",
    "def create_heatmap(data,cmap='RdYlGn_r', distance_metric='cosine', z_score=0):\n",
    "    sns.clustermap(data.groupby('Class').mean().T, cmap=cmap, center=0, col_cluster=False, row_cluster=True, metric=distance_metric, z_score=z_score, cbar_kws={'label': ''}, cbar=True, xticklabels=True, yticklabels=False)\n",
    "    plt.show()"
   ]
  },
  {
   "cell_type": "code",
   "execution_count": null,
   "id": "761201ee",
   "metadata": {},
   "outputs": [],
   "source": [
    "# Plot the heatmap\n",
    "create_heatmap(data_peak_picked,cmap='RdYlGn_r',distance_metric='cosine', z_score=0)"
   ]
  },
  {
   "cell_type": "code",
   "execution_count": null,
   "id": "bc287ea1",
   "metadata": {},
   "outputs": [],
   "source": [
    "# Define the function to identify significant features in a dataset using the Kruskal-Wallis test based on the peak picked data\n",
    "def significant_features(data, alpha=0.05):\n",
    "    x = 'Class'\n",
    "    y_columns = data.columns.tolist()\n",
    "    if x in y_columns:\n",
    "        y_columns.remove(x)\n",
    "    else:\n",
    "        print(\"'Class' column not found in the data.\")\n",
    "        return None\n",
    "    order = data[x].unique()\n",
    "    significant_columns = []\n",
    "    num_comparisons = len(y_columns)  \n",
    "    corrected_alpha = alpha / num_comparisons\n",
    "    for col in y_columns:\n",
    "        data_dict = {group: data[col][data[x] == group] for group in order}\n",
    "        test_statistic, p_value = kruskal(*data_dict.values())\n",
    "        if p_value <= corrected_alpha:\n",
    "            significant_columns.append(col)\n",
    "    return significant_columns"
   ]
  },
  {
   "cell_type": "code",
   "execution_count": null,
   "id": "a05524fc",
   "metadata": {},
   "outputs": [],
   "source": [
    "# Call the significant_features function with data_peak_picked and store the result in significant_mz_values\n",
    "significant_mz_values = significant_features(data_peak_picked)\n",
    "\n",
    "# Print the number of significant m/z (mass/charge) values found\n",
    "print(len(significant_mz_values))\n",
    "\n",
    "# Display the list of significant m/z values.\n",
    "significant_mz_values"
   ]
  },
  {
   "cell_type": "code",
   "execution_count": null,
   "id": "3d30311b",
   "metadata": {},
   "outputs": [],
   "source": [
    "# save the significants m/z values for further analysis\n",
    "import csv\n",
    "nom_fichier = 'significant_mz_values.csv'\n",
    "with open(nom_fichier, 'w', newline='') as csvfile:\n",
    "    writer = csv.writer(csvfile)\n",
    "    writer.writerow(['Column_name'])\n",
    "    for element in significant_mz_values:\n",
    "        writer.writerow([element])"
   ]
  },
  {
   "cell_type": "code",
   "execution_count": null,
   "id": "7330fabf",
   "metadata": {},
   "outputs": [],
   "source": [
    "# Integrate results from both unsupervised and supervised approaches\n",
    "# Upload the CSV file containing all the robust biomarkers as a 'robust_biomarkers' \n",
    "robust_biomarkers = pd.read_csv('significant_mz_values.csv')\n",
    "robust_biomarkers"
   ]
  },
  {
   "cell_type": "code",
   "execution_count": null,
   "id": "fe228e29",
   "metadata": {},
   "outputs": [],
   "source": [
    "# Transform this dataframe into a list named 'liste_mz_robust'. \n",
    "liste_mz_robust = []\n",
    "for i in robust_biomarkers[\"Column_name\"]:\n",
    "    liste_mz_robust.append(str(i))\n",
    "liste_mz_robust"
   ]
  },
  {
   "cell_type": "code",
   "execution_count": null,
   "id": "1edde83a",
   "metadata": {},
   "outputs": [],
   "source": [
    "# Define the functions to display all the boxplots of robust biomarkers at one shot\n",
    "def boxplot_significant_features(data, mz_values, class_colors=None, test='Kruskal', loc='inside'):\n",
    "    label = 'Class'\n",
    "    order = sorted(data[label].unique())  \n",
    "    box_pairs = list(combinations(order, 2))\n",
    "    print(\"Class labels in dataset:\", order)  \n",
    "    custom_palette = {class_label: class_colors.get(class_label, 'blue') for class_label in order}\n",
    "    num_mz_values = len(mz_values)\n",
    "    num_cols = int(num_mz_values ** 0.5)  \n",
    "    num_rows = (num_mz_values + num_cols - 1) // num_cols \n",
    "    figsize_x = 16\n",
    "    figsize_y = 5 * num_rows\n",
    "    fig, axes = plt.subplots(num_rows, num_cols, figsize=(figsize_x, figsize_y), dpi=100)\n",
    "    if num_rows == 1:\n",
    "        axes = axes.reshape(1, -1)\n",
    "    for i, mz in enumerate(mz_values):\n",
    "        x = \"Class\"\n",
    "        y = mz\n",
    "        row = i // num_cols\n",
    "        col = i % num_cols\n",
    "        ax = axes[row, col]\n",
    "        sns.boxplot(data=data, x=x, y=y, order=order, ax=ax, palette=custom_palette)\n",
    "        ax.set_xticklabels(ax.get_xticklabels(), rotation=45)\n",
    "        add_stat_annotation(ax, data=data, x=x, y=y, order=order, box_pairs=box_pairs,\n",
    "                            test=test, text_format='star', loc='inside', verbose=0)\n",
    "        ax.tick_params(axis='y', labelsize=8)\n",
    "    for i in range(num_mz_values, num_rows * num_cols):\n",
    "        fig.delaxes(axes.flatten()[i])\n",
    "    plt.tight_layout()\n",
    "    plt.show()"
   ]
  },
  {
   "cell_type": "code",
   "execution_count": null,
   "id": "3534284c",
   "metadata": {},
   "outputs": [],
   "source": [
    "# Define the function toisplay the robust biomarekrs one by one   \n",
    "def one_box_plot(data, mz, test='Kruskal', class_colors=None):\n",
    "    label = 'Class'\n",
    "    order = sorted(data[label].unique())  \n",
    "    box_pairs = list(combinations(order, 2))\n",
    "    print(\"Class labels in dataset:\", order)  \n",
    "    x = \"Class\"\n",
    "    y = mz\n",
    "    custom_palette = {class_label: class_colors.get(class_label, 'blue') for class_label in order}\n",
    "    plt.figure(figsize=(8, 6))\n",
    "    ax = plt.gca()\n",
    "    sns.boxplot(data=data, x=x, y=y, order=order, ax=ax, palette=custom_palette)\n",
    "    ax.set_xticklabels(ax.get_xticklabels(), rotation=30)\n",
    "    add_stat_annotation(ax, data=data, x=x, y=y, order=order, box_pairs=box_pairs,\n",
    "                        test=test, text_format='star', loc='outside', verbose=2)\n",
    "    plt.show() "
   ]
  },
  {
   "cell_type": "code",
   "execution_count": null,
   "id": "36ac3ed5",
   "metadata": {},
   "outputs": [],
   "source": [
    "from itertools import combinations\n",
    "from statannot import add_stat_annotation\n",
    "custom_colors = {'Tumor':'red','Necrosis':'black','Benign':'green'}\n",
    "boxplot_significant_features(data, liste_mz_robust, class_colors=custom_colors)"
   ]
  },
  {
   "cell_type": "code",
   "execution_count": null,
   "id": "04753b1f",
   "metadata": {},
   "outputs": [],
   "source": [
    "mz = '701.55' #specify m/z (ion)\n",
    "one_box_plot(data, mz, class_colors = custom_colors)"
   ]
  }
 ],
 "metadata": {
  "kernelspec": {
   "display_name": "Python 3 (ipykernel)",
   "language": "python",
   "name": "python3"
  },
  "language_info": {
   "codemirror_mode": {
    "name": "ipython",
    "version": 3
   },
   "file_extension": ".py",
   "mimetype": "text/x-python",
   "name": "python",
   "nbconvert_exporter": "python",
   "pygments_lexer": "ipython3",
   "version": "3.11.3"
  }
 },
 "nbformat": 4,
 "nbformat_minor": 5
}
